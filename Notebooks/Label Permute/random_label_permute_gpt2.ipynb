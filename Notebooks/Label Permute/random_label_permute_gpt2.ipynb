{
 "cells": [
  {
   "cell_type": "code",
   "execution_count": 1,
   "metadata": {},
   "outputs": [],
   "source": [
    "# This notebook is meant to run on the nlpcluster. \n",
    "# See instructions https://www.notion.so/Helpers-9ef437d130c9484c9eb5be38f6d041a2 to launch a notebook on the cluster\n",
    "# Reminder: Use the conda environment 'gptj'"
   ]
  },
  {
   "cell_type": "code",
   "execution_count": 2,
   "metadata": {},
   "outputs": [
    {
     "ename": "ModuleNotFoundError",
     "evalue": "No module named 'transformers'",
     "output_type": "error",
     "traceback": [
      "\u001b[0;31m---------------------------------------------------------------------------\u001b[0m",
      "\u001b[0;31mModuleNotFoundError\u001b[0m                       Traceback (most recent call last)",
      "\u001b[0;32m<ipython-input-2-6b2bab712c27>\u001b[0m in \u001b[0;36m<module>\u001b[0;34m\u001b[0m\n\u001b[0;32m----> 1\u001b[0;31m \u001b[0;32mfrom\u001b[0m \u001b[0mtransformers\u001b[0m \u001b[0;32mimport\u001b[0m \u001b[0mpipeline\u001b[0m\u001b[0;34m,\u001b[0m \u001b[0mset_seed\u001b[0m\u001b[0;34m\u001b[0m\u001b[0;34m\u001b[0m\u001b[0m\n\u001b[0m\u001b[1;32m      2\u001b[0m \u001b[0mgenerator\u001b[0m \u001b[0;34m=\u001b[0m \u001b[0mpipeline\u001b[0m\u001b[0;34m(\u001b[0m\u001b[0;34m'text-generation'\u001b[0m\u001b[0;34m,\u001b[0m \u001b[0mmodel\u001b[0m\u001b[0;34m=\u001b[0m\u001b[0;34m'gpt2'\u001b[0m\u001b[0;34m)\u001b[0m\u001b[0;34m\u001b[0m\u001b[0;34m\u001b[0m\u001b[0m\n",
      "\u001b[0;31mModuleNotFoundError\u001b[0m: No module named 'transformers'"
     ]
    }
   ],
   "source": [
    "from transformers import pipeline, set_seed\n",
    "generator = pipeline('text-generation', model='gpt2')"
   ]
  },
  {
   "cell_type": "code",
   "execution_count": 3,
   "metadata": {},
   "outputs": [],
   "source": [
    "from copy import deepcopy\n",
    "\n",
    "labels = ['land','water','air']\n",
    "labels_shuffled = deepcopy(labels)\n",
    "\n",
    "\n",
    "# The different types of animals\n",
    "land=['donkey', 'goat', 'cat', 'dog', 'lion', \n",
    "                  'tiger', 'elephant', 'giraffe', 'wolf', 'pig',\n",
    "                 'sheep','rat','mice','horse','cow']\n",
    "water=['dolphin', 'whale', 'orca', 'turtle', 'seal', 'octopus', \n",
    "                'crab', 'sea lion', 'otter', 'seahorse', \n",
    "               'starfish', 'squid', 'lobster','eel','shark']\n",
    "air=['bat', 'eagle', 'owl', 'vulture', 'hummingbird', 'albatross', \n",
    "                   'pegion', 'crow', 'flamingo', 'falcon', 'fowl', \n",
    "                    'pelican', 'sparrow', 'crane','stork']\n",
    "\n",
    "\n",
    "\n",
    "# Add data to a dictionary\n",
    "animals = {}\n",
    "animals['land'] = land\n",
    "animals['water'] = water\n",
    "animals['air'] = air"
   ]
  },
  {
   "cell_type": "code",
   "execution_count": 4,
   "metadata": {},
   "outputs": [
    {
     "name": "stdout",
     "output_type": "stream",
     "text": [
      "Current seed is 0\n",
      "Train ratio is 0.5\n"
     ]
    },
    {
     "ename": "NameError",
     "evalue": "name 'tokenizer' is not defined",
     "output_type": "error",
     "traceback": [
      "\u001b[0;31m---------------------------------------------------------------------------\u001b[0m",
      "\u001b[0;31mNameError\u001b[0m                                 Traceback (most recent call last)",
      "\u001b[0;32m<ipython-input-4-9cea92bf9a4a>\u001b[0m in \u001b[0;36m<module>\u001b[0;34m\u001b[0m\n\u001b[1;32m     69\u001b[0m         \u001b[0mtrue_errors\u001b[0m \u001b[0;34m=\u001b[0m \u001b[0;36m0\u001b[0m\u001b[0;34m\u001b[0m\u001b[0;34m\u001b[0m\u001b[0m\n\u001b[1;32m     70\u001b[0m         \u001b[0;32mfor\u001b[0m \u001b[0mi\u001b[0m \u001b[0;32min\u001b[0m \u001b[0mrange\u001b[0m\u001b[0;34m(\u001b[0m\u001b[0mlen\u001b[0m\u001b[0;34m(\u001b[0m\u001b[0mprompts\u001b[0m\u001b[0;34m)\u001b[0m\u001b[0;34m)\u001b[0m\u001b[0;34m:\u001b[0m\u001b[0;34m\u001b[0m\u001b[0;34m\u001b[0m\u001b[0m\n\u001b[0;32m---> 71\u001b[0;31m             \u001b[0minput_ids\u001b[0m \u001b[0;34m=\u001b[0m \u001b[0mtokenizer\u001b[0m\u001b[0;34m(\u001b[0m\u001b[0mprompts\u001b[0m\u001b[0;34m[\u001b[0m\u001b[0mi\u001b[0m\u001b[0;34m]\u001b[0m\u001b[0;34m,\u001b[0m \u001b[0mreturn_tensors\u001b[0m\u001b[0;34m=\u001b[0m\u001b[0;34m\"pt\"\u001b[0m\u001b[0;34m)\u001b[0m\u001b[0;34m.\u001b[0m\u001b[0minput_ids\u001b[0m\u001b[0;34m\u001b[0m\u001b[0;34m\u001b[0m\u001b[0m\n\u001b[0m\u001b[1;32m     72\u001b[0m             output = model.generate(input_ids.cuda(), do_sample=True, \n\u001b[1;32m     73\u001b[0m                                     temperature=0.5, max_length=len(prompt.split(' ')) + 30,)\n",
      "\u001b[0;31mNameError\u001b[0m: name 'tokenizer' is not defined"
     ]
    }
   ],
   "source": [
    "import numpy as np\n",
    "import random\n",
    "from numpy.random import randint\n",
    "\n",
    "# Perform a seeded runs below. Set the parameters for the seeds here.\n",
    "num_seeds=6            \n",
    "seeds=np.ndarray.tolist(np.arange(0,num_seeds,step=1))\n",
    "\n",
    "# List of training fraction of the data \n",
    "train_ratio_list = [0.5, 0.6, 0.7, 0.8, 0.9]    \n",
    "\n",
    "test_errors = []\n",
    "truelabel_test_errors = []\n",
    "shuffle_labels = True        # Set to True to permute the labels associated with the data\n",
    "\n",
    "\n",
    "for seed in seeds:\n",
    "    test_errors.append([])\n",
    "    truelabel_test_errors.append([])\n",
    "    print('Current seed is', seed)\n",
    "    random.seed(seed)\n",
    "    for train_ratio in train_ratio_list:\n",
    "        print('Train ratio is', train_ratio)\n",
    "        \n",
    "        if shuffle_labels==True:\n",
    "            shuffle=0\n",
    "            while shuffle==0:\n",
    "                shuffle = 1\n",
    "                random.shuffle(labels_shuffled)   # Shuffles the list of labels\n",
    "                for i in range(len(labels_shuffled)):\n",
    "                    if labels_shuffled[i] == labels[i]:\n",
    "                        shuffle=0\n",
    "\n",
    "        train_data = []\n",
    "        test_data = []\n",
    "        test_label = []\n",
    "        true_test_label = []\n",
    "        \n",
    "        # Generate training and test data\n",
    "        for i in range(len(labels)):\n",
    "            group_full = animals[labels[i]]\n",
    "            group_train = random.sample(group_full,int(len(group_full)*train_ratio))\n",
    "            group_test = list(set(group_full) - set(group_train))\n",
    "            for j in range(len(group_train)):\n",
    "                train_point = group_train[j]+'-'+labels_shuffled[i]\n",
    "                train_data.append(train_point)\n",
    "            for j in range(len(group_test)):\n",
    "                test_point = group_test[j]+'-'\n",
    "                test_data.append(test_point)\n",
    "                test_label.append(labels_shuffled[i])\n",
    "                true_test_label.append(labels[i])\n",
    "\n",
    "            random.shuffle(train_data)  # Permute the train data so that all the groups dont appear together\n",
    "\n",
    "        # Create the prompts\n",
    "        prompts = []\n",
    "        train_prompt = ''\n",
    "        for i in range(len(train_data)):\n",
    "            train_prompt = train_prompt+train_data[i]+'\\n'\n",
    "        for i in range(len(test_data)):\n",
    "            test_prompt = train_prompt+test_data[i]\n",
    "            prompts.append(test_prompt)\n",
    "\n",
    "\n",
    "        # Feed the prompts to GPT-3\n",
    "        completions = []\n",
    "        prediction = []\n",
    "        num_errors = 0\n",
    "        true_errors = 0\n",
    "        for i in range(len(prompts)):\n",
    "            output=generator(prompts[i], max_length=30, num_return_sequences=1)\n",
    "            completions.append(output)\n",
    "            prediction.append(output[0]['generated_text'].replace(prompts[i],''))\n",
    "            num_errors += int(prediction[i]!=test_label[i])\n",
    "            true_errors += int(prediction[i]!=true_test_label[i])\n",
    "\n",
    "        test_error = num_errors/len(test_label)\n",
    "        test_errors[seed].append(test_error)\n",
    "        truelabel_test_errors[seed].append(true_errors/len(test_label))"
   ]
  },
  {
   "cell_type": "code",
   "execution_count": 5,
   "metadata": {},
   "outputs": [
    {
     "name": "stdout",
     "output_type": "stream",
     "text": [
      "Error: [] Std dev.: []\n",
      "True Label Error: [] Std dev.: []\n"
     ]
    }
   ],
   "source": [
    "test_errors_np = np.array(test_errors)\n",
    "mean_error = np.mean(test_errors_np,axis=0)\n",
    "std_error = np.std(test_errors_np,axis=0)\n",
    "\n",
    "#Error with respect to true labels\n",
    "true_label_error_np = np.array(truelabel_test_errors)\n",
    "mean_true_error = np.mean(true_label_error_np,axis=0)\n",
    "std_true_error = np.std(true_label_error_np,axis=0)\n",
    "\n",
    "\n",
    "print('Error:',mean_error,'Std dev.:',std_error)\n",
    "print('True Label Error:',mean_true_error,'Std dev.:',std_true_error)"
   ]
  },
  {
   "cell_type": "code",
   "execution_count": null,
   "metadata": {},
   "outputs": [],
   "source": [
    "#Generate plot with the loss results\n",
    "import seaborn as sns\n",
    "import matplotlib.pyplot as plt\n",
    "\n",
    "sns.set()\n",
    "number_prompts = (3*15*np.array(train_ratio_list)).astype(int)\n",
    "\n",
    "plt.plot(number_prompts, mean_error,label='Error')\n",
    "plt.plot(number_prompts,mean_true_error,label='True Label Error')\n",
    "plt.fill_between(number_prompts, (mean_error-0.68*std_error), \n",
    "                         (mean_error+0.68*std_error), \n",
    "                             color='blue', alpha=0.1)\n",
    "plt.fill_between(number_prompts, (mean_true_error-0.68*std_true_error), \n",
    "                         (mean_true_error+0.68*std_true_error), \n",
    "                             color='red', alpha=0.1)\n",
    "\n",
    "plt.xlabel('Number of prompt examples')\n",
    "plt.ylabel('Error')\n",
    "plt.legend(loc='best')\n",
    "plt.title('Learning random permutations')\n",
    "plt.savefig('../../Results/permutation_error_gpt2',format='png')"
   ]
  }
 ],
 "metadata": {
  "kernelspec": {
   "display_name": "Python 3",
   "language": "python",
   "name": "python3"
  },
  "language_info": {
   "codemirror_mode": {
    "name": "ipython",
    "version": 3
   },
   "file_extension": ".py",
   "mimetype": "text/x-python",
   "name": "python",
   "nbconvert_exporter": "python",
   "pygments_lexer": "ipython3",
   "version": "3.7.4"
  }
 },
 "nbformat": 4,
 "nbformat_minor": 2
}
